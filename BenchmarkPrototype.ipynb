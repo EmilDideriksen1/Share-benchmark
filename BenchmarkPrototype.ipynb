{
 "cells": [
  {
   "cell_type": "markdown",
   "metadata": {
    "hide_input": true,
    "slideshow": {
     "slide_type": "slide"
    }
   },
   "source": [
    "# Benchmark rapport "
   ]
  },
  {
   "cell_type": "code",
   "execution_count": 1,
   "metadata": {
    "hide_input": false,
    "scrolled": true
   },
   "outputs": [],
   "source": [
    "import pandas as pd\n",
    "from ipywidgets import *\n",
    "from IPython.display import display, clear_output\n",
    "from main import get_backtest_result, get_performance_measures, find_trading_area, find_sector, plot_performance, plot_backtest, sector_storage \n",
    "from ipywidgets.widgets.interaction import show_inline_matplotlib_plots"
   ]
  },
  {
   "cell_type": "markdown",
   "metadata": {},
   "source": [
    "### Backtest settings"
   ]
  },
  {
   "cell_type": "markdown",
   "metadata": {},
   "source": [
    "* Start date and end date should be picked before running the backtest\n",
    "* Lookback states the number of observations in the moving average \n",
    "* Stdlist indicates which standard deviation that should give a trade signal\n",
    "* Explist is the portion of exposure on each standard deviation  \n",
    "* Float with the short rate to use"
   ]
  },
  {
   "cell_type": "code",
   "execution_count": 8,
   "metadata": {
    "hide_input": false,
    "scrolled": true
   },
   "outputs": [
    {
     "data": {
      "application/vnd.jupyter.widget-view+json": {
       "model_id": "878d88e9800f4db8856b3c06f7c1465d",
       "version_major": 2,
       "version_minor": 0
      },
      "text/plain": [
       "VBox(children=(DatePicker(value=None, description='Pick start date'), DatePicker(value=None, description='Pick…"
      ]
     },
     "metadata": {},
     "output_type": "display_data"
    }
   ],
   "source": [
    "strategy_name ='BenchmarkShareClasses'\n",
    "start_date = widgets.DatePicker(description='Pick start date')\n",
    "end_date = widgets.DatePicker(description='Pick end date')\n",
    "look_back = widgets.IntSlider(value=20,min=0,max=50,step=1,description='look_back:')\n",
    "std_list = widgets.Textarea(value='1, 2', description='std_list:')\n",
    "exp_list = widgets.Textarea(value='0.5, 1', description='exp_list')\n",
    "short_rate = widgets.FloatText(value=1, description='short_rate', step=0.5)\n",
    "VBox(children=[start_date, end_date, look_back, std_list, exp_list, short_rate])"
   ]
  },
  {
   "cell_type": "markdown",
   "metadata": {},
   "source": [
    "## Run backtest and get result "
   ]
  },
  {
   "cell_type": "code",
   "execution_count": 9,
   "metadata": {
    "scrolled": true
   },
   "outputs": [
    {
     "data": {
      "application/vnd.jupyter.widget-view+json": {
       "model_id": "2a14b41e5a9d4788b4deeaf176f15ff8",
       "version_major": 2,
       "version_minor": 0
      },
      "text/plain": [
       "Button(button_style='info', description='Run Backtest', style=ButtonStyle())"
      ]
     },
     "metadata": {},
     "output_type": "display_data"
    },
    {
     "data": {
      "application/vnd.jupyter.widget-view+json": {
       "model_id": "a26b7a3ff42b46f6b45842b085d45336",
       "version_major": 2,
       "version_minor": 0
      },
      "text/plain": [
       "Output()"
      ]
     },
     "metadata": {},
     "output_type": "display_data"
    }
   ],
   "source": [
    "get_data_button = widgets.Button(description='Run Backtest', button_style='info')\n",
    "\n",
    "def get_data(b):\n",
    "\n",
    "    get_data.data = get_backtest_result(strategy_name, start_date.value, end_date.value, look_back.value, std_list.value, exp_list.value, short_rate.value)\n",
    "    print ('Done with all sectors')\n",
    "    with out1:\n",
    "        \n",
    "        return get_data.data\n",
    "\n",
    "out1 = widgets.Output()\n",
    "display(get_data_button, out1)\n",
    "get_data_button.on_click(get_data)\n"
   ]
  },
  {
   "cell_type": "markdown",
   "metadata": {},
   "source": [
    "### Choose trading area and sector "
   ]
  },
  {
   "cell_type": "code",
   "execution_count": 10,
   "metadata": {
    "hide_input": false,
    "scrolled": true
   },
   "outputs": [
    {
     "data": {
      "application/vnd.jupyter.widget-view+json": {
       "model_id": "2e361ce289ee4306b85f547fac9031f1",
       "version_major": 2,
       "version_minor": 0
      },
      "text/plain": [
       "interactive(children=(Dropdown(description='trading_area', options=('All', 'AB', 'HoldCOs', 'US Share Classes'…"
      ]
     },
     "metadata": {},
     "output_type": "display_data"
    }
   ],
   "source": [
    "storage = sector_storage()\n",
    "trading_areaW = Dropdown(options = storage.keys())\n",
    "sectorW = Dropdown()\n",
    "\n",
    "@interact(trading_area = trading_areaW, sector = sectorW)\n",
    "def print_city(trading_area, sector):\n",
    "    sectorW.options = storage[trading_area]"
   ]
  },
  {
   "cell_type": "markdown",
   "metadata": {},
   "source": [
    "### Settings"
   ]
  },
  {
   "cell_type": "code",
   "execution_count": 11,
   "metadata": {
    "hide_input": false,
    "scrolled": true
   },
   "outputs": [
    {
     "data": {
      "application/vnd.jupyter.widget-view+json": {
       "model_id": "f2f3e2173f634581a20949a4cfb24a7d",
       "version_major": 2,
       "version_minor": 0
      },
      "text/plain": [
       "interactive(children=(Dropdown(description='pnl_col', options=('NetPnL', 'GrossPnL'), value='NetPnL'), Dropdow…"
      ]
     },
     "metadata": {},
     "output_type": "display_data"
    }
   ],
   "source": [
    "def f(pnl_col, currency): return pnl_col, currency\n",
    "settings = interactive(f, pnl_col=['NetPnL', 'GrossPnL'], currency=['$', '£'])\n",
    "settings"
   ]
  },
  {
   "cell_type": "markdown",
   "metadata": {},
   "source": [
    "## Getting performance measures \n"
   ]
  },
  {
   "cell_type": "markdown",
   "metadata": {},
   "source": [
    "### Table"
   ]
  },
  {
   "cell_type": "code",
   "execution_count": 12,
   "metadata": {
    "hide_input": false,
    "scrolled": false
   },
   "outputs": [
    {
     "data": {
      "application/vnd.jupyter.widget-view+json": {
       "model_id": "a8a9f6b4a3294dcfa2c6f773f8df71c6",
       "version_major": 2,
       "version_minor": 0
      },
      "text/plain": [
       "Button(button_style='success', description='Run Table', style=ButtonStyle())"
      ]
     },
     "metadata": {},
     "output_type": "display_data"
    },
    {
     "data": {
      "application/vnd.jupyter.widget-view+json": {
       "model_id": "ff908b66f79c46968ea377a54e75b388",
       "version_major": 2,
       "version_minor": 0
      },
      "text/plain": [
       "Output()"
      ]
     },
     "metadata": {},
     "output_type": "display_data"
    }
   ],
   "source": [
    "run_table_button = widgets.Button(description='Run Table', button_style='success')\n",
    "\n",
    "def run_table(c):\n",
    "    with out2:\n",
    "        display(get_performance_measures(get_data.data, trading_areaW.value, sectorW.value, settings.result))\n",
    "        clear_output(wait=True)\n",
    "        \n",
    "\n",
    "out2 = widgets.Output()\n",
    "display(run_table_button, out2)\n",
    "run_table_button.on_click(run_table)"
   ]
  },
  {
   "cell_type": "markdown",
   "metadata": {},
   "source": [
    "### Plots "
   ]
  },
  {
   "cell_type": "code",
   "execution_count": null,
   "metadata": {},
   "outputs": [],
   "source": [
    "%%javascript\n",
    "IPython.OutputArea.prototype._should_scroll = function(lines) {\n",
    "    return false;\n",
    "}"
   ]
  },
  {
   "cell_type": "code",
   "execution_count": 7,
   "metadata": {
    "hide_input": false,
    "scrolled": false
   },
   "outputs": [
    {
     "data": {
      "application/vnd.jupyter.widget-view+json": {
       "model_id": "9d123c932f3a4d568f0e29f2ece0abe8",
       "version_major": 2,
       "version_minor": 0
      },
      "text/plain": [
       "Button(button_style='success', description='Run Plot', style=ButtonStyle())"
      ]
     },
     "metadata": {},
     "output_type": "display_data"
    },
    {
     "data": {
      "application/vnd.jupyter.widget-view+json": {
       "model_id": "338600a058e14547b3d93bcf9f697e11",
       "version_major": 2,
       "version_minor": 0
      },
      "text/plain": [
       "Output()"
      ]
     },
     "metadata": {},
     "output_type": "display_data"
    }
   ],
   "source": [
    "run_plot_button = widgets.Button(description='Run Plot', button_style='success')\n",
    "\n",
    "def run_plot(c):\n",
    "    with out3:\n",
    "        plot_performance(get_data.data, trading_areaW.value, sectorW.value, settings.result)\n",
    "        show_inline_matplotlib_plots()\n",
    "        clear_output(wait=True)\n",
    "    \n",
    "out3 = widgets.Output()\n",
    "display(run_plot_button, out3)\n",
    "run_plot_button.on_click(run_plot)"
   ]
  }
 ],
 "metadata": {
  "kernelspec": {
   "display_name": "epdenvn",
   "language": "python",
   "name": "epdenvn"
  },
  "language_info": {
   "codemirror_mode": {
    "name": "ipython",
    "version": 3
   },
   "file_extension": ".py",
   "mimetype": "text/x-python",
   "name": "python",
   "nbconvert_exporter": "python",
   "pygments_lexer": "ipython3",
   "version": "3.7.9"
  }
 },
 "nbformat": 4,
 "nbformat_minor": 4
}
